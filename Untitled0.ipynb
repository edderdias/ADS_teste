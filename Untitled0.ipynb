{
  "nbformat": 4,
  "nbformat_minor": 0,
  "metadata": {
    "colab": {
      "provenance": [],
      "authorship_tag": "ABX9TyNrAhe4gViyGyIvJvhvF7d4",
      "include_colab_link": true
    },
    "kernelspec": {
      "name": "python3",
      "display_name": "Python 3"
    },
    "language_info": {
      "name": "python"
    }
  },
  "cells": [
    {
      "cell_type": "markdown",
      "metadata": {
        "id": "view-in-github",
        "colab_type": "text"
      },
      "source": [
        "<a href=\"https://colab.research.google.com/github/edderdias/ADS_teste/blob/main/Untitled0.ipynb\" target=\"_parent\"><img src=\"https://colab.research.google.com/assets/colab-badge.svg\" alt=\"Open In Colab\"/></a>"
      ]
    },
    {
      "cell_type": "code",
      "execution_count": 8,
      "metadata": {
        "colab": {
          "base_uri": "https://localhost:8080/"
        },
        "id": "2zEc2bG4cq6W",
        "outputId": "93916d8b-de71-4f92-f015-5060ec1483a5"
      },
      "outputs": [
        {
          "output_type": "stream",
          "name": "stdout",
          "text": [
            "Insira a primeira Nota.\n",
            "10\n",
            "Insira a segunda Nota.\n",
            "8\n",
            "Insira a terceira Nota.\n",
            "5\n",
            "Insira a quarta Nota.\n",
            "9\n",
            "A média é: 8.0\n",
            "Aprovado!!!!\n"
          ]
        }
      ],
      "source": [
        "print('Insira a primeira Nota.')\n",
        "Nota_1 = int(input())\n",
        "\n",
        "print('Insira a segunda Nota.')\n",
        "Nota_2 = int(input())\n",
        "\n",
        "print('Insira a terceira Nota.')\n",
        "Nota_3 = int(input())\n",
        "\n",
        "print('Insira a quarta Nota.')\n",
        "Nota_4 = int(input())\n",
        "\n",
        "lista = [Nota_1, Nota_2, Nota_3, Nota_4]\n",
        "\n",
        "media = sum(lista)/len(lista)\n",
        "\n",
        "print('A média é: ' + str(media))\n",
        "\n",
        "if media >= 7:\n",
        "  print('Aprovado!!!!')\n",
        "else:\n",
        "  print('Reprovado!!!')"
      ]
    }
  ]
}