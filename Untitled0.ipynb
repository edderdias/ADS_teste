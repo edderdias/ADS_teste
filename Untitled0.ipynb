{
  "nbformat": 4,
  "nbformat_minor": 0,
  "metadata": {
    "colab": {
      "provenance": [],
      "authorship_tag": "ABX9TyMGnYp/KJhfjL5LSejT8Zdg",
      "include_colab_link": true
    },
    "kernelspec": {
      "name": "python3",
      "display_name": "Python 3"
    },
    "language_info": {
      "name": "python"
    }
  },
  "cells": [
    {
      "cell_type": "markdown",
      "metadata": {
        "id": "view-in-github",
        "colab_type": "text"
      },
      "source": [
        "<a href=\"https://colab.research.google.com/github/edderdias/ADS_teste/blob/main/Untitled0.ipynb\" target=\"_parent\"><img src=\"https://colab.research.google.com/assets/colab-badge.svg\" alt=\"Open In Colab\"/></a>"
      ]
    },
    {
      "cell_type": "code",
      "execution_count": 1,
      "metadata": {
        "colab": {
          "base_uri": "https://localhost:8080/"
        },
        "id": "2zEc2bG4cq6W",
        "outputId": "41a7a47f-98b8-4f0e-d62f-eb664ecbc22f"
      },
      "outputs": [
        {
          "output_type": "stream",
          "name": "stdout",
          "text": [
            "Insira a primeira Nota.\n",
            "10\n",
            "Insira a segunda Nota.\n",
            "8\n",
            "Insira a terceira Nota.\n",
            "9\n",
            "Insira a quarta Nota.\n",
            "10\n",
            "A média é: 9.25\n",
            "Aprovado!!!!\n"
          ]
        }
      ],
      "source": [
        "#Solicita ao usuario para inserir a primeira nota\n",
        "print('Insira a primeira Nota.')\n",
        "Nota_1 = int(input())\n",
        "\n",
        "#Solicita ao usuario para inserir a segunda nota\n",
        "print('Insira a segunda Nota.')\n",
        "Nota_2 = int(input())\n",
        "\n",
        "#Solicita ao usuario para inserir a terceira nota\n",
        "print('Insira a terceira Nota.')\n",
        "Nota_3 = int(input())\n",
        "\n",
        "#Solicita ao usuario para inserir a quarta nota\n",
        "print('Insira a quarta Nota.')\n",
        "Nota_4 = int(input())\n",
        "\n",
        "#Armazeno os valores inserido em uma lista\n",
        "lista = [Nota_1, Nota_2, Nota_3, Nota_4]\n",
        "\n",
        "#Faço a soma das notas\n",
        "soma = sum(lista)\n",
        "\n",
        "#Calculo a média das notas\n",
        "media = soma/len(lista)\n",
        "\n",
        "#Exibir ao usuario a média das notas\n",
        "print('A média é: ' + str(media))\n",
        "\n",
        "#verifica a média das notas inseridas para informar se está aprovado ou não\n",
        "if media >= 7:\n",
        "#Caso a média maior que 7 exibir ao usuário aprovado\n",
        "  print('Aprovado!!!!')\n",
        "else:\n",
        "#Caso a média menor que 7 exibir ao usuário Reprovado\n",
        "  print('Reprovado!!!')"
      ]
    }
  ]
}